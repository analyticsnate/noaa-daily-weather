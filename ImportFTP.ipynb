{
 "cells": [
  {
   "cell_type": "code",
   "execution_count": 1,
   "metadata": {
    "collapsed": true
   },
   "outputs": [],
   "source": [
    "from ftplib import FTP"
   ]
  },
  {
   "cell_type": "code",
   "execution_count": 2,
   "metadata": {
    "collapsed": true
   },
   "outputs": [],
   "source": [
    "class NoaaFTP():\n",
    "    def __init__(self, folder='pub/data/ghcn/daily'):\n",
    "        \"\"\"\n",
    "        NOAA FTP Wrapper\n",
    "        Params:\n",
    "        -------\n",
    "        folder : str\n",
    "        - folder to change directory\n",
    "        \"\"\"\n",
    "        self.ftp = FTP('ftp.ncdc.noaa.gov')\n",
    "        self.ftp.login()\n",
    "        self.ftp.cwd(folder)\n",
    "\n",
    "        \n",
    "    def retrieve_file(self, file_name, folder_name=None):\n",
    "        \"\"\"\n",
    "        Copies file from NOAA FTP site to local directory\n",
    "        Params:\n",
    "        -------\n",
    "        file_name : str\n",
    "        - name of file to be copied from NOAA FTP\n",
    "        folder_name : str\n",
    "        - folder of file to be copied from NOAA FTP\n",
    "        \"\"\"\n",
    "        if folder_name is not None:\n",
    "            local_file = open((folder_name + file_name), 'wb')\n",
    "        else:\n",
    "            local_file = open((file_name), 'wb')\n",
    "        \n",
    "        self.ftp.retrbinary('RETR {}'.format(file_name),local_file.write,8*102)\n",
    "        \n",
    "    def quit(self):\n",
    "        self.ftp.quite()\n",
    "    "
   ]
  },
  {
   "cell_type": "code",
   "execution_count": null,
   "metadata": {
    "collapsed": true
   },
   "outputs": [],
   "source": []
  }
 ],
 "metadata": {
  "kernelspec": {
   "display_name": "Python 3",
   "language": "python",
   "name": "python3"
  },
  "language_info": {
   "codemirror_mode": {
    "name": "ipython",
    "version": 3
   },
   "file_extension": ".py",
   "mimetype": "text/x-python",
   "name": "python",
   "nbconvert_exporter": "python",
   "pygments_lexer": "ipython3",
   "version": "3.6.1"
  }
 },
 "nbformat": 4,
 "nbformat_minor": 2
}
