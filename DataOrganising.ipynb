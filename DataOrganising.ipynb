{
 "cells": [
  {
   "cell_type": "code",
   "execution_count": 6,
   "metadata": {},
   "outputs": [],
   "source": [
    "import pandas as pd \n",
    "import noaa_ftp\n"
   ]
  },
  {
   "cell_type": "code",
   "execution_count": null,
   "metadata": {
    "collapsed": true
   },
   "outputs": [],
   "source": [
    "class DailyFile:\n",
    "    \n",
    "    cols_list = ['ID','YEAR','MONTH','ELEMENT']\n",
    "    widths_list = [11,4,2,4]\n",
    "    \n",
    "    def __init__(self, station_id, data_folder= 'data/'):\n",
    "        self.ftp = noaa_ftp.NoaaFTP('pub/data/ghcn/daily/all')\n",
    "        print(f'Retrieving {station_id}.dly')\n",
    "        self.ftp.retrieve_file(f'{station_id}.dly', data_folder)\n",
    "        self.ftp.quit()\n",
    "        \n",
    "        for n in range(1,32):\n",
    "            # append column names to colsList\n",
    "            self.cols_list.append(f'VALUE{n}')\n",
    "            self.cols_list.append(f'MFLAG{n}')\n",
    "            self.cols_list.append(f'QFLAG{n}')\n",
    "            self.cols_list.append(f'SFLAG{n}')\n",
    "        \n",
    "            # append column widths to widthsList\n",
    "            self.widths_list.append(5)\n",
    "            self.widths_list.append(1)\n",
    "            self.widths_list.append(1)\n",
    "            self.widths_list.append(1)\n",
    "            \n",
    "        # build dataframe\n",
    "        self.df_raw = pd.read_fwf(\n",
    "                            f'{data_folder}{station_id}.dly'\n",
    "                            ,header=None\n",
    "                            ,widths=self.widths_list\n",
    "                            ,names=self.cols_list\n",
    "                            ,index_col=False)\n",
    "\n",
    "        self.df = pd.DataFrame(columns=['ID','YEAR','MONTH','ELEMENT','VALUE','DAY'])\n",
    "        \n",
    "        for i in range(1,32):\n",
    "            df_append = self.df_raw.filter(['ID','YEAR','MONTH','ELEMENT',f'VALUE{i}'])\n",
    "            df_append.rename(columns={f'VALUE{i}':'VALUE'},inplace=True)\n",
    "            df_append['DAY'] = i\n",
    "            self.df = self.df.append(df_append)\n",
    "\n",
    "        # 1. change ID column name to StationID\n",
    "        self.df = self.df.rename(columns={'ID': 'StationID'})\n",
    "\n",
    "        # 2. change datatype of value to double\n",
    "        self.df['VALUE'] = self.df['VALUE'].astype('float')\n",
    "\n",
    "        # 3. filter out -9999 values\n",
    "        self.df = self.df[ self.df['VALUE']>-9999 ]\n",
    "        \n",
    "    def mm_to_inches(self, row):\n",
    "        \"\"\"\n",
    "        converts the VALUE from millimeters to inches\n",
    "        because murica is \"special\"\n",
    "        \"\"\"\n",
    "        return row['VALUE'] / 25.4\n",
    "    \n",
    "    def c_to_f(self, row):\n",
    "        # (0°C × 9/5) + 32 = 32°F\n",
    "        return ( ((((row['VALUE']/10) * 9) / 5) + 32))\n",
    "    \n",
    "    def winter_season(self, row):\n",
    "        \"\"\"\n",
    "        formats the YEAR field to be like the winter of 90-91, 03-04\n",
    "        these years in this format go from June to May\n",
    "        \"\"\"\n",
    "        if row['MONTH'] < 6:\n",
    "            return str(row['YEAR'] - 1)[2:4] + '-' + str(row['YEAR'])[2:4]\n",
    "        else:\n",
    "            return str(row['YEAR'])[2:4] + '-' + str(row['YEAR'] + 1)[2:4]\n",
    "        \n",
    "    "
   ]
  }
 ],
 "metadata": {
  "kernelspec": {
   "display_name": "Python 3",
   "language": "python",
   "name": "python3"
  },
  "language_info": {
   "codemirror_mode": {
    "name": "ipython",
    "version": 3
   },
   "file_extension": ".py",
   "mimetype": "text/x-python",
   "name": "python",
   "nbconvert_exporter": "python",
   "pygments_lexer": "ipython3",
   "version": "3.6.1"
  }
 },
 "nbformat": 4,
 "nbformat_minor": 2
}
